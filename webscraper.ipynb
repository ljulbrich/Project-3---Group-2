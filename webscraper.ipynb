{
 "cells": [
  {
   "cell_type": "code",
   "execution_count": 42,
   "metadata": {},
   "outputs": [],
   "source": [
    "from pathlib import Path\n",
    "from matplotlib import pyplot as plt\n",
    "import pandas as pd\n",
    "import regex as re\n",
    "import json\n",
    "\n",
    "# Importing selenium components\n",
    "from selenium import webdriver\n",
    "from selenium.webdriver.chrome.service import Service as ChromeService\n",
    "from webdriver_manager.chrome import ChromeDriverManager\n",
    "from selenium.webdriver.common.by import By\n",
    "from selenium.webdriver.chrome.options import Options\n",
    "\n",
    "#importing huggingface transformers\n",
    "from transformers import pipeline\n"
   ]
  },
  {
   "cell_type": "code",
   "execution_count": 28,
   "metadata": {},
   "outputs": [],
   "source": [
    "# Setting up the selenium webdriver\n",
    "options = Options()\n",
    "options.add_argument('--headless=new')\n",
    "driver = webdriver.Chrome(service=ChromeService(ChromeDriverManager().install()), options=options)\n"
   ]
  },
  {
   "cell_type": "code",
   "execution_count": 3,
   "metadata": {},
   "outputs": [
    {
     "data": {
      "text/html": [
       "<div>\n",
       "<style scoped>\n",
       "    .dataframe tbody tr th:only-of-type {\n",
       "        vertical-align: middle;\n",
       "    }\n",
       "\n",
       "    .dataframe tbody tr th {\n",
       "        vertical-align: top;\n",
       "    }\n",
       "\n",
       "    .dataframe thead th {\n",
       "        text-align: right;\n",
       "    }\n",
       "</style>\n",
       "<table border=\"1\" class=\"dataframe\">\n",
       "  <thead>\n",
       "    <tr style=\"text-align: right;\">\n",
       "      <th></th>\n",
       "      <th>ASX code</th>\n",
       "      <th>Company name</th>\n",
       "      <th>GICs industry group</th>\n",
       "      <th>Listing date</th>\n",
       "      <th>Market Cap</th>\n",
       "    </tr>\n",
       "  </thead>\n",
       "  <tbody>\n",
       "    <tr>\n",
       "      <th>0</th>\n",
       "      <td>14D</td>\n",
       "      <td>1414 DEGREES LIMITED</td>\n",
       "      <td>Capital Goods</td>\n",
       "      <td>12/09/2018</td>\n",
       "      <td>14051943</td>\n",
       "    </tr>\n",
       "    <tr>\n",
       "      <th>1</th>\n",
       "      <td>1AD</td>\n",
       "      <td>ADALTA LIMITED</td>\n",
       "      <td>Pharmaceuticals, Biotechnology &amp; Life Sciences</td>\n",
       "      <td>22/08/2016</td>\n",
       "      <td>14196980</td>\n",
       "    </tr>\n",
       "    <tr>\n",
       "      <th>2</th>\n",
       "      <td>1AE</td>\n",
       "      <td>AURORA ENERGY METALS LIMITED</td>\n",
       "      <td>Materials</td>\n",
       "      <td>18/05/2022</td>\n",
       "      <td>21039989</td>\n",
       "    </tr>\n",
       "    <tr>\n",
       "      <th>3</th>\n",
       "      <td>1AG</td>\n",
       "      <td>ALTERRA LIMITED</td>\n",
       "      <td>Food, Beverage &amp; Tobacco</td>\n",
       "      <td>16/05/2008</td>\n",
       "      <td>3482763</td>\n",
       "    </tr>\n",
       "    <tr>\n",
       "      <th>4</th>\n",
       "      <td>1AI</td>\n",
       "      <td>ALGORAE PHARMACEUTICALS LIMITED</td>\n",
       "      <td>Pharmaceuticals, Biotechnology &amp; Life Sciences</td>\n",
       "      <td>01/09/2004</td>\n",
       "      <td>14952172</td>\n",
       "    </tr>\n",
       "    <tr>\n",
       "      <th>...</th>\n",
       "      <td>...</td>\n",
       "      <td>...</td>\n",
       "      <td>...</td>\n",
       "      <td>...</td>\n",
       "      <td>...</td>\n",
       "    </tr>\n",
       "    <tr>\n",
       "      <th>1999</th>\n",
       "      <td>ZLD</td>\n",
       "      <td>ZELIRA THERAPEUTICS LIMITED</td>\n",
       "      <td>Pharmaceuticals, Biotechnology &amp; Life Sciences</td>\n",
       "      <td>28/07/2003</td>\n",
       "      <td>7829537</td>\n",
       "    </tr>\n",
       "    <tr>\n",
       "      <th>2000</th>\n",
       "      <td>ZMI</td>\n",
       "      <td>ZINC OF IRELAND NL</td>\n",
       "      <td>Materials</td>\n",
       "      <td>18/09/2007</td>\n",
       "      <td>2770876</td>\n",
       "    </tr>\n",
       "    <tr>\n",
       "      <th>2001</th>\n",
       "      <td>ZMM</td>\n",
       "      <td>ZIMI LIMITED</td>\n",
       "      <td>Technology Hardware &amp; Equipment</td>\n",
       "      <td>10/09/2007</td>\n",
       "      <td>3942018</td>\n",
       "    </tr>\n",
       "    <tr>\n",
       "      <th>2002</th>\n",
       "      <td>ZNC</td>\n",
       "      <td>ZENITH MINERALS LIMITED</td>\n",
       "      <td>Materials</td>\n",
       "      <td>29/05/2007</td>\n",
       "      <td>30304756</td>\n",
       "    </tr>\n",
       "    <tr>\n",
       "      <th>2003</th>\n",
       "      <td>ZNO</td>\n",
       "      <td>ZOONO GROUP LIMITED</td>\n",
       "      <td>Materials</td>\n",
       "      <td>21/07/1988</td>\n",
       "      <td>24572900</td>\n",
       "    </tr>\n",
       "  </tbody>\n",
       "</table>\n",
       "<p>2004 rows × 5 columns</p>\n",
       "</div>"
      ],
      "text/plain": [
       "     ASX code                     Company name  \\\n",
       "0         14D             1414 DEGREES LIMITED   \n",
       "1         1AD                   ADALTA LIMITED   \n",
       "2         1AE     AURORA ENERGY METALS LIMITED   \n",
       "3         1AG                  ALTERRA LIMITED   \n",
       "4         1AI  ALGORAE PHARMACEUTICALS LIMITED   \n",
       "...       ...                              ...   \n",
       "1999      ZLD      ZELIRA THERAPEUTICS LIMITED   \n",
       "2000      ZMI               ZINC OF IRELAND NL   \n",
       "2001      ZMM                     ZIMI LIMITED   \n",
       "2002      ZNC          ZENITH MINERALS LIMITED   \n",
       "2003      ZNO              ZOONO GROUP LIMITED   \n",
       "\n",
       "                                 GICs industry group Listing date Market Cap  \n",
       "0                                      Capital Goods   12/09/2018   14051943  \n",
       "1     Pharmaceuticals, Biotechnology & Life Sciences   22/08/2016   14196980  \n",
       "2                                          Materials   18/05/2022   21039989  \n",
       "3                           Food, Beverage & Tobacco   16/05/2008    3482763  \n",
       "4     Pharmaceuticals, Biotechnology & Life Sciences   01/09/2004   14952172  \n",
       "...                                              ...          ...        ...  \n",
       "1999  Pharmaceuticals, Biotechnology & Life Sciences   28/07/2003    7829537  \n",
       "2000                                       Materials   18/09/2007    2770876  \n",
       "2001                 Technology Hardware & Equipment   10/09/2007    3942018  \n",
       "2002                                       Materials   29/05/2007   30304756  \n",
       "2003                                       Materials   21/07/1988   24572900  \n",
       "\n",
       "[2004 rows x 5 columns]"
      ]
     },
     "execution_count": 3,
     "metadata": {},
     "output_type": "execute_result"
    }
   ],
   "source": [
    "csv_path = Path('Resources/ASX_Listed_Companies_25-03-2024_02-42-20_AEDT.csv')\n",
    "company_symbols = pd.read_csv(csv_path)\n",
    "company_symbols\n",
    "\n",
    "# create a scraped_data dataframe with symbols as columns"
   ]
  },
  {
   "cell_type": "code",
   "execution_count": 36,
   "metadata": {},
   "outputs": [
    {
     "name": "stdout",
     "output_type": "stream",
     "text": [
      "The past year for IPH (ASX:IPH) investors has not been profitable\n",
      "We Wouldn't Be Too Quick To Buy IPH Limited (ASX:IPH) Before It Goes Ex-Dividend\n",
      "IPH Limited (ASX:IPH) Shares Could Be 47% Below Their Intrinsic Value Estimate\n",
      "With 49% stake, IPH Limited (ASX:IPH) seems to have captured institutional investors' interest\n",
      "Weak Financial Prospects Seem To Be Dragging Down IPH Limited (ASX:IPH) Stock\n",
      "IPH (ASX:IPH) investors are sitting on a loss of 23% if they invested a year ago\n",
      "IPH Limited (ASX:IPH) Shares Could Be 33% Below Their Intrinsic Value Estimate\n",
      "IPH (ASX:IPH) Will Pay A Larger Dividend Than Last Year At A$0.175\n",
      "Pleasing Signs As A Number Of Insiders Buy IPH Stock\n",
      "Does The Market Have A Low Tolerance For IPH Limited's (ASX:IPH) Mixed Fundamentals?\n"
     ]
    }
   ],
   "source": [
    "query_start = 'https://au.finance.yahoo.com/quote/';\n",
    "query_end = '?.tsrc=fin-srch'\n",
    "\n",
    "# This is to select all items in list\n",
    "# for i in len(company_symbols):\n",
    "#     query_URL = f\"{query_start}{company_symbols['ASX code'][i]}{query_end}\"\n",
    "#     soup = BeautifulSoup(query_URL, 'html.parser')\n",
    "#     for article in soup.find_all('li class=\"js-stream-content Pos(r)\"'):\n",
    "#         link = article.get('href')\n",
    "#         blurb = article.get('p')\n",
    "#         title = article.get('a')\n",
    "\n",
    "article_dict = {}\n",
    "query_URL = \"https://au.finance.yahoo.com/quote/IPH.AX?.tsrc=fin-srch\"\n",
    "driver.get(query_URL)\n",
    "\n",
    "articles = driver.find_elements(By.CSS_SELECTOR, 'li[class=\"js-stream-content Pos(r)\"]')\n",
    "i = 0\n",
    "\n",
    "# The following code parses the raw html from selenium to a regex patern which extracts the text\n",
    "for article in articles:\n",
    "    raw_html = article.get_attribute('outerHTML')\n",
    "\n",
    "    # Creating regex patterns\n",
    "    title_pattern = r'(?:</u>)(.*?)(?:</a>)'\n",
    "    blurb_pattern = r'(?:\\(0\\)\">)(.*?)(?:</p>)'\n",
    "    link_pattern = r'(?:href=\")(.*?)(?: data-uuid)'\n",
    "\n",
    "    # Performing a regex search\n",
    "    title = re.search(title_pattern, raw_html)\n",
    "    blurb = re.search(blurb_pattern, raw_html)\n",
    "    link = re.search(link_pattern, raw_html)\n",
    "    article_dict[f\"article{i}\"] = {'title':str(title.group(1)), 'blurb':str(blurb.group(1)), 'link':str(link.group(1))}\n",
    "    i+=1\n",
    "    \n",
    "for article in article_dict:\n",
    "    print(article_dict[article]['title'])\n"
   ]
  },
  {
   "cell_type": "code",
   "execution_count": 43,
   "metadata": {},
   "outputs": [],
   "source": [
    "# Closing the webdriver\n",
    "driver.quit()"
   ]
  },
  {
   "cell_type": "code",
   "execution_count": 40,
   "metadata": {},
   "outputs": [
    {
     "name": "stderr",
     "output_type": "stream",
     "text": [
      "No model was supplied, defaulted to distilbert-base-uncased-finetuned-sst-2-english and revision af0f99b (https://huggingface.co/distilbert-base-uncased-finetuned-sst-2-english).\n",
      "Using a pipeline without specifying a model name and revision in production is not recommended.\n",
      "No model was supplied, defaulted to distilbert-base-uncased-finetuned-sst-2-english and revision af0f99b (https://huggingface.co/distilbert-base-uncased-finetuned-sst-2-english).\n",
      "Using a pipeline without specifying a model name and revision in production is not recommended.\n"
     ]
    },
    {
     "name": "stdout",
     "output_type": "stream",
     "text": [
      "[{'label': 'NEGATIVE', 'score': 0.9997759461402893}] article0\n"
     ]
    },
    {
     "name": "stderr",
     "output_type": "stream",
     "text": [
      "No model was supplied, defaulted to distilbert-base-uncased-finetuned-sst-2-english and revision af0f99b (https://huggingface.co/distilbert-base-uncased-finetuned-sst-2-english).\n",
      "Using a pipeline without specifying a model name and revision in production is not recommended.\n"
     ]
    },
    {
     "name": "stdout",
     "output_type": "stream",
     "text": [
      "[{'label': 'NEGATIVE', 'score': 0.9955692887306213}] article1\n"
     ]
    },
    {
     "name": "stderr",
     "output_type": "stream",
     "text": [
      "No model was supplied, defaulted to distilbert-base-uncased-finetuned-sst-2-english and revision af0f99b (https://huggingface.co/distilbert-base-uncased-finetuned-sst-2-english).\n",
      "Using a pipeline without specifying a model name and revision in production is not recommended.\n"
     ]
    },
    {
     "name": "stdout",
     "output_type": "stream",
     "text": [
      "[{'label': 'NEGATIVE', 'score': 0.9990774393081665}] article2\n"
     ]
    },
    {
     "name": "stderr",
     "output_type": "stream",
     "text": [
      "No model was supplied, defaulted to distilbert-base-uncased-finetuned-sst-2-english and revision af0f99b (https://huggingface.co/distilbert-base-uncased-finetuned-sst-2-english).\n",
      "Using a pipeline without specifying a model name and revision in production is not recommended.\n"
     ]
    },
    {
     "name": "stdout",
     "output_type": "stream",
     "text": [
      "[{'label': 'POSITIVE', 'score': 0.9946942925453186}] article3\n"
     ]
    },
    {
     "name": "stderr",
     "output_type": "stream",
     "text": [
      "No model was supplied, defaulted to distilbert-base-uncased-finetuned-sst-2-english and revision af0f99b (https://huggingface.co/distilbert-base-uncased-finetuned-sst-2-english).\n",
      "Using a pipeline without specifying a model name and revision in production is not recommended.\n"
     ]
    },
    {
     "name": "stdout",
     "output_type": "stream",
     "text": [
      "[{'label': 'NEGATIVE', 'score': 0.999794065952301}] article4\n"
     ]
    },
    {
     "name": "stderr",
     "output_type": "stream",
     "text": [
      "No model was supplied, defaulted to distilbert-base-uncased-finetuned-sst-2-english and revision af0f99b (https://huggingface.co/distilbert-base-uncased-finetuned-sst-2-english).\n",
      "Using a pipeline without specifying a model name and revision in production is not recommended.\n"
     ]
    },
    {
     "name": "stdout",
     "output_type": "stream",
     "text": [
      "[{'label': 'NEGATIVE', 'score': 0.9996612071990967}] article5\n"
     ]
    },
    {
     "name": "stderr",
     "output_type": "stream",
     "text": [
      "No model was supplied, defaulted to distilbert-base-uncased-finetuned-sst-2-english and revision af0f99b (https://huggingface.co/distilbert-base-uncased-finetuned-sst-2-english).\n",
      "Using a pipeline without specifying a model name and revision in production is not recommended.\n"
     ]
    },
    {
     "name": "stdout",
     "output_type": "stream",
     "text": [
      "[{'label': 'NEGATIVE', 'score': 0.9989746809005737}] article6\n"
     ]
    },
    {
     "name": "stderr",
     "output_type": "stream",
     "text": [
      "No model was supplied, defaulted to distilbert-base-uncased-finetuned-sst-2-english and revision af0f99b (https://huggingface.co/distilbert-base-uncased-finetuned-sst-2-english).\n",
      "Using a pipeline without specifying a model name and revision in production is not recommended.\n"
     ]
    },
    {
     "name": "stdout",
     "output_type": "stream",
     "text": [
      "[{'label': 'NEGATIVE', 'score': 0.9814810752868652}] article7\n"
     ]
    },
    {
     "name": "stderr",
     "output_type": "stream",
     "text": [
      "No model was supplied, defaulted to distilbert-base-uncased-finetuned-sst-2-english and revision af0f99b (https://huggingface.co/distilbert-base-uncased-finetuned-sst-2-english).\n",
      "Using a pipeline without specifying a model name and revision in production is not recommended.\n"
     ]
    },
    {
     "name": "stdout",
     "output_type": "stream",
     "text": [
      "[{'label': 'POSITIVE', 'score': 0.9989981055259705}] article8\n",
      "[{'label': 'NEGATIVE', 'score': 0.9988011121749878}] article9\n"
     ]
    }
   ],
   "source": [
    "for article in article_dict:\n",
    "    sentiment = pipeline(task='sentiment-analysis')\n",
    "    result = sentiment(article_dict[article]['title'])\n",
    "    print(result, article)\n",
    "    article_dict[article]['label'] = result[0]['label']\n",
    "    article_dict[article]['score'] = result[0]['score']\n"
   ]
  },
  {
   "cell_type": "code",
   "execution_count": 45,
   "metadata": {},
   "outputs": [
    {
     "name": "stdout",
     "output_type": "stream",
     "text": [
      "{'title': 'The past year for IPH (ASX:IPH) investors has not been profitable', 'blurb': 'Passive investing in an index fund is a good way to ensure your own returns roughly match the overall market. While...', 'link': '/news/past-iph-asx-iph-investors-230510741.html\"', 'label': 'NEGATIVE', 'score': 0.9997759461402893}\n",
      "{'title': \"We Wouldn't Be Too Quick To Buy IPH Limited (ASX:IPH) Before It Goes Ex-Dividend\", 'blurb': \"Some investors rely on dividends for growing their wealth, and if you're one of those dividend sleuths, you might be...\", 'link': '/news/wouldnt-too-quick-buy-iph-233604946.html\"', 'label': 'NEGATIVE', 'score': 0.9955692887306213}\n",
      "{'title': 'IPH Limited (ASX:IPH) Shares Could Be 47% Below Their Intrinsic Value Estimate', 'blurb': \"Key Insights IPH's estimated fair value is AU$13.28 based on 2 Stage Free Cash Flow to Equity IPH is estimated to be...\", 'link': '/news/iph-limited-asx-iph-shares-002124589.html\"', 'label': 'NEGATIVE', 'score': 0.9990774393081665}\n",
      "{'title': \"With 49% stake, IPH Limited (ASX:IPH) seems to have captured institutional investors' interest\", 'blurb': \"Key Insights Institutions' substantial holdings in IPH implies that they have significant influence over the company's...\", 'link': '/news/49-stake-iph-limited-asx-020444671.html\"', 'label': 'POSITIVE', 'score': 0.9946942925453186}\n",
      "{'title': 'Weak Financial Prospects Seem To Be Dragging Down IPH Limited (ASX:IPH) Stock', 'blurb': 'IPH (ASX:IPH) has had a rough three months with its share price down 13%. To decide if this trend could continue, we...', 'link': '/news/weak-financial-prospects-seem-dragging-031747850.html\"', 'label': 'NEGATIVE', 'score': 0.999794065952301}\n",
      "{'title': 'IPH (ASX:IPH) investors are sitting on a loss of 23% if they invested a year ago', 'blurb': 'The simplest way to benefit from a rising market is to buy an index fund. While individual stocks can be big winners...', 'link': '/news/iph-asx-iph-investors-sitting-210000262.html\"', 'label': 'NEGATIVE', 'score': 0.9996612071990967}\n",
      "{'title': 'IPH Limited (ASX:IPH) Shares Could Be 33% Below Their Intrinsic Value Estimate', 'blurb': \"Key Insights IPH's estimated fair value is AU$11.44 based on 2 Stage Free Cash Flow to Equity Current share price of...\", 'link': '/news/iph-limited-asx-iph-shares-002531792.html\"', 'label': 'NEGATIVE', 'score': 0.9989746809005737}\n",
      "{'title': 'IPH (ASX:IPH) Will Pay A Larger Dividend Than Last Year At A$0.175', 'blurb': \"IPH Limited ( ASX:IPH ) will increase its dividend from last year's comparable payment on the 15th of September to...\", 'link': '/news/iph-asx-iph-pay-larger-223748313.html\"', 'label': 'NEGATIVE', 'score': 0.9814810752868652}\n",
      "{'title': 'Pleasing Signs As A Number Of Insiders Buy IPH Stock', 'blurb': 'When a single insider purchases stock, it is typically not a major deal. However, when multiple insiders purchase...', 'link': '/news/pleasing-signs-number-insiders-buy-233646296.html\"', 'label': 'POSITIVE', 'score': 0.9989981055259705}\n",
      "{'title': \"Does The Market Have A Low Tolerance For IPH Limited's (ASX:IPH) Mixed Fundamentals?\", 'blurb': 'With its stock down 8.3% over the past three months, it is easy to disregard IPH (ASX:IPH). It is possible that the...', 'link': '/news/does-market-low-tolerance-iph-013944991.html\"', 'label': 'NEGATIVE', 'score': 0.9988011121749878}\n"
     ]
    }
   ],
   "source": [
    "for article in article_dict:\n",
    "    print(article_dict[article])\n",
    "\n",
    "with open('Resources/newsArticles.json', 'w') as outfile:\n",
    "    json.dump(article_dict, outfile)"
   ]
  }
 ],
 "metadata": {
  "kernelspec": {
   "display_name": "monash",
   "language": "python",
   "name": "python3"
  },
  "language_info": {
   "codemirror_mode": {
    "name": "ipython",
    "version": 3
   },
   "file_extension": ".py",
   "mimetype": "text/x-python",
   "name": "python",
   "nbconvert_exporter": "python",
   "pygments_lexer": "ipython3",
   "version": "3.10.13"
  }
 },
 "nbformat": 4,
 "nbformat_minor": 2
}
